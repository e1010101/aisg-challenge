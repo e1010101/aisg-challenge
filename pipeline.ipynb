{
 "cells": [
  {
   "cell_type": "code",
   "execution_count": 1,
   "metadata": {},
   "outputs": [],
   "source": [
    "import os\n",
    "import glob\n",
    "import pandas as pd"
   ]
  },
  {
   "cell_type": "code",
   "execution_count": 2,
   "metadata": {},
   "outputs": [
    {
     "name": "stderr",
     "output_type": "stream",
     "text": [
      "d:\\GitHub\\aisg-challenge\\.venv\\Lib\\site-packages\\tqdm\\auto.py:21: TqdmWarning: IProgress not found. Please update jupyter and ipywidgets. See https://ipywidgets.readthedocs.io/en/stable/user_install.html\n",
      "  from .autonotebook import tqdm as notebook_tqdm\n"
     ]
    }
   ],
   "source": [
    "from frame_extraction import extract_frames\n",
    "from image_captioning import load_captioning_model, generate_caption"
   ]
  },
  {
   "cell_type": "code",
   "execution_count": 3,
   "metadata": {},
   "outputs": [],
   "source": [
    "MODEL_ID = \"fancyfeast/llama-joycaption-alpha-two-hf-llava\"\n",
    "IMAGE_PATH_1 = \"test_image/image.png\""
   ]
  },
  {
   "cell_type": "code",
   "execution_count": 4,
   "metadata": {},
   "outputs": [
    {
     "name": "stdout",
     "output_type": "stream",
     "text": [
      "Loading model 'fancyfeast/llama-joycaption-alpha-two-hf-llava'...\n",
      "Using bfloat16.\n"
     ]
    },
    {
     "name": "stderr",
     "output_type": "stream",
     "text": [
      "Using a slow image processor as `use_fast` is unset and a slow processor was saved with this model. `use_fast=True` will be the default behavior in v4.52, even if the model was saved with a slow processor. This will result in minor differences in outputs. You'll still be able to use a slow processor with `use_fast=False`.\n",
      "The model weights are not tied. Please use the `tie_weights` method before using the `infer_auto_device` function.\n",
      "Loading checkpoint shards: 100%|██████████| 4/4 [00:21<00:00,  5.40s/it]\n",
      "Some parameters are on the meta device because they were offloaded to the cpu.\n"
     ]
    },
    {
     "name": "stdout",
     "output_type": "stream",
     "text": [
      "Model 'fancyfeast/llama-joycaption-alpha-two-hf-llava' loaded successfully on device: cuda:0\n"
     ]
    }
   ],
   "source": [
    "processor, model, device = load_captioning_model(model_name=MODEL_ID, device_map=\"auto\")"
   ]
  },
  {
   "cell_type": "code",
   "execution_count": 5,
   "metadata": {},
   "outputs": [],
   "source": [
    "# caption1 = generate_caption(\n",
    "#                 image_path=IMAGE_PATH_1,\n",
    "#                 processor=processor,\n",
    "#                 model=model,\n",
    "#                 device=device\n",
    "#             )\n",
    "\n",
    "# print(caption1)"
   ]
  },
  {
   "cell_type": "markdown",
   "metadata": {},
   "source": [
    "# Step 1: Split video into frames"
   ]
  },
  {
   "cell_type": "code",
   "execution_count": 6,
   "metadata": {},
   "outputs": [],
   "source": [
    "input_video_file = 'test_video/_MXxJT8Mk4k.mp4'\n",
    "output_frames_folder = 'video_frames_output'\n",
    "interval = 30 # Extract every Nth frame\n",
    "img_format = 'png'"
   ]
  },
  {
   "cell_type": "code",
   "execution_count": 7,
   "metadata": {},
   "outputs": [
    {
     "name": "stdout",
     "output_type": "stream",
     "text": [
      "Output directory 'video_frames_output' already exists. Files may be overwritten.\n",
      "------------------------------\n",
      "Video Info:\n",
      "  Path: test_video/_MXxJT8Mk4k.mp4\n",
      "  FPS: 25.00\n",
      "  Total Frames: 328\n",
      "  Duration: 13.12 seconds\n",
      "  Output Folder: video_frames_output\n",
      "  Frame Interval: 30 (saving every 30 frame(s))\n",
      "  Image Format: .png\n",
      "------------------------------\n",
      "------------------------------\n",
      "Finished processing.\n",
      "Total frames read from video: 328\n",
      "Total frames saved to 'video_frames_output': 11\n",
      "------------------------------\n"
     ]
    }
   ],
   "source": [
    "extract_frames(input_video_file, output_frames_folder, frame_interval=interval, image_format=img_format)"
   ]
  },
  {
   "cell_type": "markdown",
   "metadata": {},
   "source": [
    "# Step 2: Caption all frames"
   ]
  },
  {
   "cell_type": "code",
   "execution_count": 8,
   "metadata": {},
   "outputs": [
    {
     "name": "stdout",
     "output_type": "stream",
     "text": [
      "Found 11 image(s) to caption.\n",
      "\n",
      "Processing image 1/11: frame_000000.png\n",
      "Caption: This is a photograph of a pair of hands using scissors to cut open a clear plastic glove against a bright blue background. The word \"glove\" is prominently displayed in white text on a red square at the top of the image. The glove has a shiny, reflective texture, and the scissors have black handles. The scene is brightly lit, emphasizing the crispness of the glove and the sharpness of the scissors.\n",
      "\n",
      "Processing image 2/11: frame_000001.png\n",
      "Caption: This is a photograph featuring a close-up of a hand pouring white, crystalline vinegar from a transparent glass bottle into a clear glass measuring cup against a bright blue background. The hand, with light skin, holds the bottle with a firm grip. The word \"vinegar\" is prominently displayed in bold, white text within a red rectangular box at the top of the image. The overall scene is simple and clean, emphasizing the clear liquids and the vibrant blue background.\n",
      "\n",
      "Processing image 3/11: frame_000002.png\n",
      "Caption: This photograph features a close-up of a hand holding a small, clear plastic bag. The hand, with light skin and short, clean nails, is positioned on the left side of the image. The plastic bag contains a pink, fluffy material, possibly cotton or wool, emerging from its top. To the right, a silver surgical instrument with a curved tip is shown, possibly used for applying the fluffy material. The background is a bright, solid blue, creating a stark contrast that highlights the subjects. The image has a clinical, sterile feel, emphasizing the precision and care involved in the process.\n",
      "\n",
      "Processing image 4/11: frame_000003.png\n",
      "Caption: The image is a photograph featuring a close-up of a hand holding a bright yellow balloon against a vivid blue background. The hand, positioned in the bottom left corner, has a light skin tone and is grasping the balloon with fingers slightly curved. The balloon appears to be in the process of being inflated or deflated, with a small portion of it being stretched and pulled. In the top right corner, a metal balloon pump is partially visible, its metallic texture contrasting with the smooth, shiny surface of the balloon. The overall composition highlights the bright colors and textures, creating a playful and vibrant scene.\n",
      "\n",
      "Processing image 5/11: frame_000004.png\n",
      "Caption: This is a photograph featuring a close-up of two hands opening a yellow plastic packet. The background is a solid, bright blue. The hands, light-skinned with neatly trimmed nails, are shown in the center of the image. The packet is being pinched at the top, revealing a white inner compartment. Above the hands, a red banner with white text reads \"baking soda.\" The image is clean and minimalistic, focusing on the action of opening the packet.\n",
      "\n",
      "Processing image 6/11: frame_000005.png\n",
      "Caption: This is a photograph featuring a close-up of two hands against a bright blue background. The hands, with fair skin and neatly trimmed nails, are engaged in stretching a vibrant yellow rubber band. The rubber band is being pulled apart, with one end held by the thumb and index finger of the left hand, and the other end by the thumb and index finger of the right hand. The texture of the rubber band appears smooth and slightly shiny, contrasting with the matte, slightly wrinkled texture of the skin. The composition is simple, focusing on the hands and the rubber band, with no other objects or distractions present.\n",
      "\n",
      "Processing image 7/11: frame_000006.png\n",
      "Caption: A photograph showcasing a person's hands with light skin tone holding a yellow, stylized rubber ducky and a black marker. The ducky features a playful face with a frowning mouth and two eyes. The person is drawing on the ducky with the marker. The background is a solid, bright blue. Above the hands, a digital graphic of a green, spiky, cartoonish fish with a cheerful expression floats. The image blends traditional and digital elements, creating a whimsical, colorful scene.\n",
      "\n",
      "Processing image 8/11: frame_000007.png\n",
      "Caption: This is a photograph featuring four small, round, foam stress balls with different colors and faces. The foam balls are placed on a light wooden surface, each with a unique facial expression. The colors are purple, white, yellow, and pink. The background is a solid, bright blue. A hand is slightly visible in the top left corner, holding one of the foam balls. The foam balls have simple, black-drawn faces, adding a playful and whimsical element.\n",
      "\n",
      "Processing image 9/11: frame_000008.png\n",
      "Caption: This is a photograph of four small, colorful, foam balls placed on a light wooden surface. The balls, arranged in a loose, casual manner, include a white ball with black numbers, a purple ball, a yellow ball with black smiley faces, and a pink ball. The background features a bright blue surface, creating a vibrant contrast with the balls and the wooden surface. The balls have a smooth, soft texture, indicating they are likely designed for play.\n",
      "\n",
      "Processing image 10/11: frame_000009.png\n",
      "Caption: Photograph of five colorful foam balls arranged on a light wooden surface. The balls, in hues of purple, yellow, pink, white, and another pink, have various designs, including musical notes and smiley faces. The background features a bright blue wall, providing a vivid contrast. The balls appear smooth and slightly shiny, indicating a plastic material. The image is well-lit, highlighting the textures and colors vividly.\n",
      "\n",
      "Processing image 11/11: frame_000010.png\n",
      "Caption: A photograph of five colorful plastic balls arranged on a wooden surface. The balls are white, purple, yellow, pink, and another white ball with black circular designs. The background is a solid blue. The balls are smooth and round, with a glossy finish, reflecting light. The wooden surface has a natural grain pattern. The image is brightly lit, emphasizing the vibrant colors of the balls.\n",
      "\n",
      "--- Caption Generation Complete ---\n",
      "Processed 11 images.\n",
      "Creating DataFrame...\n",
      "DataFrame created successfully.\n",
      "Successfully generated 11 captions.\n",
      "Failed to generate captions for 0 images.\n",
      "\n",
      "DataFrame Head:\n",
      "         image_name                                            caption\n",
      "0  frame_000000.png  This is a photograph of a pair of hands using ...\n",
      "1  frame_000001.png  This is a photograph featuring a close-up of a...\n",
      "2  frame_000002.png  This photograph features a close-up of a hand ...\n",
      "3  frame_000003.png  The image is a photograph featuring a close-up...\n",
      "4  frame_000004.png  This is a photograph featuring a close-up of t...\n",
      "\n",
      "DataFrame Info:\n",
      "<class 'pandas.core.frame.DataFrame'>\n",
      "RangeIndex: 11 entries, 0 to 10\n",
      "Data columns (total 2 columns):\n",
      " #   Column      Non-Null Count  Dtype \n",
      "---  ------      --------------  ----- \n",
      " 0   image_name  11 non-null     object\n",
      " 1   caption     11 non-null     object\n",
      "dtypes: object(2)\n",
      "memory usage: 308.0+ bytes\n"
     ]
    }
   ],
   "source": [
    "if not os.path.isdir(output_frames_folder):\n",
    "    print(f\"Error: Output folder '{output_frames_folder}' not found. Please run Step 1 first.\")\n",
    "    df_captions = pd.DataFrame(columns=['image_name', 'caption'])\n",
    "else:\n",
    "    search_pattern = os.path.join(output_frames_folder, f\"*.{img_format}\")\n",
    "    image_files = sorted(glob.glob(search_pattern))\n",
    "\n",
    "    if not image_files:\n",
    "        print(f\"No images with format '.{img_format}' found in '{output_frames_folder}'.\")\n",
    "        df_captions = pd.DataFrame(columns=['image_name', 'caption'])\n",
    "    else:\n",
    "        print(f\"Found {len(image_files)} image(s) to caption.\")\n",
    "\n",
    "        caption_data_list = []\n",
    "\n",
    "        for i, image_path in enumerate(image_files):\n",
    "            image_filename = os.path.basename(image_path)\n",
    "            print(f\"\\nProcessing image {i+1}/{len(image_files)}: {image_filename}\")\n",
    "\n",
    "            caption_result = None\n",
    "            try:\n",
    "                caption_result = generate_caption(\n",
    "                    image_path=image_path,\n",
    "                    processor=processor,\n",
    "                    model=model,\n",
    "                    device=device\n",
    "                )\n",
    "\n",
    "                if caption_result is not None:\n",
    "                    print(f\"Caption: {caption_result}\")\n",
    "                else:\n",
    "                    print(f\"Skipping caption for {image_filename} due to generation error.\")\n",
    "\n",
    "            except Exception as e:\n",
    "                print(f\"An unexpected error occurred while processing {image_filename}: {e}\")\n",
    "                \n",
    "            caption_data_list.append({\n",
    "                'image_name': image_filename,\n",
    "                'caption': caption_result\n",
    "            })\n",
    "\n",
    "        print(\"\\n--- Caption Generation Complete ---\")\n",
    "        print(f\"Processed {len(image_files)} images.\")\n",
    "\n",
    "        print(\"Creating DataFrame...\")\n",
    "        df_captions = pd.DataFrame(caption_data_list)\n",
    "        print(\"DataFrame created successfully.\")\n",
    "\n",
    "        successful_captions = df_captions['caption'].notna().sum()\n",
    "        print(f\"Successfully generated {successful_captions} captions.\")\n",
    "        print(f\"Failed to generate captions for {len(df_captions) - successful_captions} images.\")\n",
    "\n",
    "        print(\"\\nDataFrame Head:\")\n",
    "        print(df_captions.head())\n",
    "        print(\"\\nDataFrame Info:\")\n",
    "        df_captions.info()"
   ]
  },
  {
   "cell_type": "code",
   "execution_count": 10,
   "metadata": {},
   "outputs": [
    {
     "data": {
      "text/html": [
       "<div>\n",
       "<style scoped>\n",
       "    .dataframe tbody tr th:only-of-type {\n",
       "        vertical-align: middle;\n",
       "    }\n",
       "\n",
       "    .dataframe tbody tr th {\n",
       "        vertical-align: top;\n",
       "    }\n",
       "\n",
       "    .dataframe thead th {\n",
       "        text-align: right;\n",
       "    }\n",
       "</style>\n",
       "<table border=\"1\" class=\"dataframe\">\n",
       "  <thead>\n",
       "    <tr style=\"text-align: right;\">\n",
       "      <th></th>\n",
       "      <th>image_name</th>\n",
       "      <th>caption</th>\n",
       "    </tr>\n",
       "  </thead>\n",
       "  <tbody>\n",
       "    <tr>\n",
       "      <th>0</th>\n",
       "      <td>frame_000000.png</td>\n",
       "      <td>This is a photograph of a pair of hands using ...</td>\n",
       "    </tr>\n",
       "    <tr>\n",
       "      <th>1</th>\n",
       "      <td>frame_000001.png</td>\n",
       "      <td>This is a photograph featuring a close-up of a...</td>\n",
       "    </tr>\n",
       "    <tr>\n",
       "      <th>2</th>\n",
       "      <td>frame_000002.png</td>\n",
       "      <td>This photograph features a close-up of a hand ...</td>\n",
       "    </tr>\n",
       "    <tr>\n",
       "      <th>3</th>\n",
       "      <td>frame_000003.png</td>\n",
       "      <td>The image is a photograph featuring a close-up...</td>\n",
       "    </tr>\n",
       "    <tr>\n",
       "      <th>4</th>\n",
       "      <td>frame_000004.png</td>\n",
       "      <td>This is a photograph featuring a close-up of t...</td>\n",
       "    </tr>\n",
       "  </tbody>\n",
       "</table>\n",
       "</div>"
      ],
      "text/plain": [
       "         image_name                                            caption\n",
       "0  frame_000000.png  This is a photograph of a pair of hands using ...\n",
       "1  frame_000001.png  This is a photograph featuring a close-up of a...\n",
       "2  frame_000002.png  This photograph features a close-up of a hand ...\n",
       "3  frame_000003.png  The image is a photograph featuring a close-up...\n",
       "4  frame_000004.png  This is a photograph featuring a close-up of t..."
      ]
     },
     "execution_count": 10,
     "metadata": {},
     "output_type": "execute_result"
    }
   ],
   "source": [
    "df_captions.head()"
   ]
  },
  {
   "cell_type": "markdown",
   "metadata": {},
   "source": [
    "# Step 3: Map captions to video ID"
   ]
  },
  {
   "cell_type": "code",
   "execution_count": 11,
   "metadata": {},
   "outputs": [
    {
     "name": "stdout",
     "output_type": "stream",
     "text": [
      "Found 11 successful captions to consolidate for video '_MXxJT8Mk4k.mp4'.\n",
      "\n",
      "Video Summary DataFrame:\n",
      "          video_id                                     captions_array\n",
      "0  _MXxJT8Mk4k.mp4  [This is a photograph of a pair of hands using...\n",
      "\n",
      "Content of 'captions_array' for the first video:\n",
      "['This is a photograph of a pair of hands using scissors to cut open a clear plastic glove against a bright blue background. The word \"glove\" is prominently displayed in white text on a red square at the top of the image. The glove has a shiny, reflective texture, and the scissors have black handles. The scene is brightly lit, emphasizing the crispness of the glove and the sharpness of the scissors.', 'This is a photograph featuring a close-up of a hand pouring white, crystalline vinegar from a transparent glass bottle into a clear glass measuring cup against a bright blue background. The hand, with light skin, holds the bottle with a firm grip. The word \"vinegar\" is prominently displayed in bold, white text within a red rectangular box at the top of the image. The overall scene is simple and clean, emphasizing the clear liquids and the vibrant blue background.', 'This photograph features a close-up of a hand holding a small, clear plastic bag. The hand, with light skin and short, clean nails, is positioned on the left side of the image. The plastic bag contains a pink, fluffy material, possibly cotton or wool, emerging from its top. To the right, a silver surgical instrument with a curved tip is shown, possibly used for applying the fluffy material. The background is a bright, solid blue, creating a stark contrast that highlights the subjects. The image has a clinical, sterile feel, emphasizing the precision and care involved in the process.', 'The image is a photograph featuring a close-up of a hand holding a bright yellow balloon against a vivid blue background. The hand, positioned in the bottom left corner, has a light skin tone and is grasping the balloon with fingers slightly curved. The balloon appears to be in the process of being inflated or deflated, with a small portion of it being stretched and pulled. In the top right corner, a metal balloon pump is partially visible, its metallic texture contrasting with the smooth, shiny surface of the balloon. The overall composition highlights the bright colors and textures, creating a playful and vibrant scene.', 'This is a photograph featuring a close-up of two hands opening a yellow plastic packet. The background is a solid, bright blue. The hands, light-skinned with neatly trimmed nails, are shown in the center of the image. The packet is being pinched at the top, revealing a white inner compartment. Above the hands, a red banner with white text reads \"baking soda.\" The image is clean and minimalistic, focusing on the action of opening the packet.', 'This is a photograph featuring a close-up of two hands against a bright blue background. The hands, with fair skin and neatly trimmed nails, are engaged in stretching a vibrant yellow rubber band. The rubber band is being pulled apart, with one end held by the thumb and index finger of the left hand, and the other end by the thumb and index finger of the right hand. The texture of the rubber band appears smooth and slightly shiny, contrasting with the matte, slightly wrinkled texture of the skin. The composition is simple, focusing on the hands and the rubber band, with no other objects or distractions present.', \"A photograph showcasing a person's hands with light skin tone holding a yellow, stylized rubber ducky and a black marker. The ducky features a playful face with a frowning mouth and two eyes. The person is drawing on the ducky with the marker. The background is a solid, bright blue. Above the hands, a digital graphic of a green, spiky, cartoonish fish with a cheerful expression floats. The image blends traditional and digital elements, creating a whimsical, colorful scene.\", 'This is a photograph featuring four small, round, foam stress balls with different colors and faces. The foam balls are placed on a light wooden surface, each with a unique facial expression. The colors are purple, white, yellow, and pink. The background is a solid, bright blue. A hand is slightly visible in the top left corner, holding one of the foam balls. The foam balls have simple, black-drawn faces, adding a playful and whimsical element.', 'This is a photograph of four small, colorful, foam balls placed on a light wooden surface. The balls, arranged in a loose, casual manner, include a white ball with black numbers, a purple ball, a yellow ball with black smiley faces, and a pink ball. The background features a bright blue surface, creating a vibrant contrast with the balls and the wooden surface. The balls have a smooth, soft texture, indicating they are likely designed for play.', 'Photograph of five colorful foam balls arranged on a light wooden surface. The balls, in hues of purple, yellow, pink, white, and another pink, have various designs, including musical notes and smiley faces. The background features a bright blue wall, providing a vivid contrast. The balls appear smooth and slightly shiny, indicating a plastic material. The image is well-lit, highlighting the textures and colors vividly.', 'A photograph of five colorful plastic balls arranged on a wooden surface. The balls are white, purple, yellow, pink, and another white ball with black circular designs. The background is a solid blue. The balls are smooth and round, with a glossy finish, reflecting light. The wooden surface has a natural grain pattern. The image is brightly lit, emphasizing the vibrant colors of the balls.']\n"
     ]
    }
   ],
   "source": [
    "video_id = os.path.basename(input_video_file)\n",
    "\n",
    "# --- Processing ---\n",
    "# Check if the df_captions DataFrame exists and has data\n",
    "if not df_captions.empty:\n",
    "\n",
    "    # Extract the 'caption' column\n",
    "    captions_series = df_captions['caption']\n",
    "\n",
    "    # Filter out any None or NaN values (captions that failed generation)\n",
    "    successful_captions_list = captions_series.dropna().tolist()\n",
    "\n",
    "    if not successful_captions_list:\n",
    "        print(f\"Warning: No successful captions were generated for video '{video_id}'. The captions array will be empty.\")\n",
    "    else:\n",
    "        print(f\"Found {len(successful_captions_list)} successful captions to consolidate for video '{video_id}'.\")\n",
    "\n",
    "    # Create the data for the new DataFrame\n",
    "    # It will have one row for this video\n",
    "    video_summary_data = [\n",
    "        {\n",
    "            'video_id': video_id,\n",
    "            'captions_array': successful_captions_list # Store the list here\n",
    "        }\n",
    "    ]\n",
    "\n",
    "    # Create the final summary DataFrame\n",
    "    df_video_summary = pd.DataFrame(video_summary_data)\n",
    "\n",
    "    print(\"\\nVideo Summary DataFrame:\")\n",
    "    # Pandas might truncate the display of the list, which is normal\n",
    "    print(df_video_summary)\n",
    "\n",
    "    # Optional: Verify the content of the list in the first row\n",
    "    print(\"\\nContent of 'captions_array' for the first video:\")\n",
    "    # Use .iloc[0] to access the first (and only) row\n",
    "    # Use ['captions_array'] to access the column containing the list\n",
    "    print(df_video_summary.iloc[0]['captions_array'])\n",
    "\n",
    "\n",
    "elif 'df_captions' in locals() and df_captions.empty:\n",
    "     print(\"The 'df_captions' DataFrame is empty. Cannot create video summary DataFrame.\")\n",
    "     # Define an empty DataFrame to avoid errors if referenced later\n",
    "     df_video_summary = pd.DataFrame(columns=['video_id', 'captions_array'])\n",
    "\n",
    "else:\n",
    "    print(\"Error: 'df_captions' DataFrame not found. Please run the caption generation and initial DataFrame creation cells first.\")\n",
    "    # Define an empty DataFrame to avoid errors if referenced later\n",
    "    df_video_summary = pd.DataFrame(columns=['video_id', 'captions_array'])"
   ]
  },
  {
   "cell_type": "code",
   "execution_count": 12,
   "metadata": {},
   "outputs": [
    {
     "data": {
      "text/html": [
       "<div>\n",
       "<style scoped>\n",
       "    .dataframe tbody tr th:only-of-type {\n",
       "        vertical-align: middle;\n",
       "    }\n",
       "\n",
       "    .dataframe tbody tr th {\n",
       "        vertical-align: top;\n",
       "    }\n",
       "\n",
       "    .dataframe thead th {\n",
       "        text-align: right;\n",
       "    }\n",
       "</style>\n",
       "<table border=\"1\" class=\"dataframe\">\n",
       "  <thead>\n",
       "    <tr style=\"text-align: right;\">\n",
       "      <th></th>\n",
       "      <th>video_id</th>\n",
       "      <th>captions_array</th>\n",
       "    </tr>\n",
       "  </thead>\n",
       "  <tbody>\n",
       "    <tr>\n",
       "      <th>0</th>\n",
       "      <td>_MXxJT8Mk4k.mp4</td>\n",
       "      <td>[This is a photograph of a pair of hands using...</td>\n",
       "    </tr>\n",
       "  </tbody>\n",
       "</table>\n",
       "</div>"
      ],
      "text/plain": [
       "          video_id                                     captions_array\n",
       "0  _MXxJT8Mk4k.mp4  [This is a photograph of a pair of hands using..."
      ]
     },
     "execution_count": 12,
     "metadata": {},
     "output_type": "execute_result"
    }
   ],
   "source": [
    "df_video_summary.head()"
   ]
  },
  {
   "cell_type": "markdown",
   "metadata": {},
   "source": [
    "# Step 4: Send captions array and questions to LLM"
   ]
  },
  {
   "cell_type": "code",
   "execution_count": null,
   "metadata": {},
   "outputs": [],
   "source": []
  }
 ],
 "metadata": {
  "kernelspec": {
   "display_name": ".venv",
   "language": "python",
   "name": "python3"
  },
  "language_info": {
   "codemirror_mode": {
    "name": "ipython",
    "version": 3
   },
   "file_extension": ".py",
   "mimetype": "text/x-python",
   "name": "python",
   "nbconvert_exporter": "python",
   "pygments_lexer": "ipython3",
   "version": "3.11.7"
  }
 },
 "nbformat": 4,
 "nbformat_minor": 2
}
